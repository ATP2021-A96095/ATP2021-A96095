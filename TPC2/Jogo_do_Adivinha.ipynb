{
 "cells": [
  {
   "cell_type": "code",
   "execution_count": null,
   "metadata": {},
   "outputs": [],
   "source": [
    "from math import floor\n",
    "l=[]\n",
    "for num in range (0,101):\n",
    "    l.append(num)\n",
    "inicio=l[0]\n",
    "fim=len(l)-1\n",
    "acertou=False\n",
    "print (\"Tenta adivinhar o número que estou a pensar no intervalo de 0 a 100\")\n",
    "\n",
    "while inicio<fim and not acertou:\n",
    "    m=floor((inicio+fim)/2)\n",
    "    utilizador=str(input(\"O número é {}? sim ou não? \".format(l[m])))\n",
    "    if utilizador == \"sim\":\n",
    "        acertou=True\n",
    "    else:\n",
    "        if utilizador == \"não\":\n",
    "           utilizador=str(input(\"O número é maior ou menor que {}? \".format(l[m])))\n",
    "           if utilizador == \"maior\":\n",
    "              inicio=l[m+1]\n",
    "              m=floor((inicio+fim)/2)\n",
    "           elif utilizador == \"menor\":\n",
    "              fim=l[m-1]\n",
    "              m=floor((inicio+fim)/2)\n",
    "print (\"Parabéns!Acertaste!\")"
   ]
  }
 ],
 "metadata": {
  "kernelspec": {
   "display_name": "Python 3",
   "language": "python",
   "name": "python3"
  },
  "language_info": {
   "codemirror_mode": {
    "name": "ipython",
    "version": 3
   },
   "file_extension": ".py",
   "mimetype": "text/x-python",
   "name": "python",
   "nbconvert_exporter": "python",
   "pygments_lexer": "ipython3",
   "version": "3.8.3"
  }
 },
 "nbformat": 4,
 "nbformat_minor": 4
}

{
 "cells": [
  {
   "cell_type": "markdown",
   "metadata": {},
   "source": [
    "# TPC2 - O jogo do adivinha"
   ]
  },
  {
   "cell_type": "markdown",
   "metadata": {},
   "source": [
    "#### Autor: Ana Margarida Ferreira de Sousa, A96095"
   ]
  },
  {
   "cell_type": "markdown",
   "metadata": {},
   "source": [
    "##### Data de início: 2021-10-18\n",
    "##### Data de fim: 2021-10-19\n",
    "\n",
    "#### Supervisor: José Carlos Leite Ramalho, https://www.di.uminho.pt/~jcr/"
   ]
  },
  {
   "cell_type": "markdown",
   "metadata": {},
   "source": [
    "\n"
   ]
  },
  {
   "cell_type": "markdown",
   "metadata": {},
   "source": [
    "***Introdução*** :\n",
    "\n",
    "No jogo do adivinha, o utilizador terá de pensar num número, no intervalo de 0 a 100, pelo que o computador terá de o tentar adivinhar num número mínimo de passos possíveis.\n",
    "Assim, e de maneira a tornar o processo mais eficiente, a construção do código baseou-se na **pesquisa binária**. Com esta implementação, a cada tentativa, o intervalo, no qual o número está inserido, é reduzido para metade até as localizações possíveis do número serem apenas uma.\n",
    "\n",
    "***Construção do código***:\n",
    "\n",
    "1.Tomei como primeiro passo, a criação de uma lista, l, que contivesse todos os números do intervalo pretendido, para que, através do indíce dos seus argumentos, se tornasse mais fácil a identificação do valor inicial e final do intervalo,e, portanto, a divisão do mesmo em metade. \n",
    "\n",
    "2.Defini 3 variáveis: o **início** (que recebe o primeiro número do intervalo), o **fim** (que recebe o último número) e **acertou**, tendo-lhe atribuído o valor booleano *False* para pressupor que o computador ainda não acertou no valor correto.\n",
    "\n",
    "3.Implementei um ciclo ***while***, que vai sendo chamado enquanto o computador não ganha. Este ciclo permite que, para cada tentativa, seja possível a divisão sucessiva dos intervalos.\n",
    "\n",
    "  a) Dentro deste ciclo, procede-se ao cálculo do valor médio do intervalo, correspondente à variável **m** pelo que, seguidamente, o computador questiona se esse valor corresponde à resposta final. Como no início do jogo o intervalo é de 0-100, surgirá na consola a questão (\"O número é 50? sim ou não?\"). Mediante isto, surgem duas hipóteses: ou o utilizador responde sim ou o utilizador responde não.\n",
    "  \n",
    "  b) Caso o utilizador responda \"sim\", ou seja, *if jogador == \"sim\"*, significa que o computador ganhou e, portanto, a variável **acertou** recebe o valor True. A última linha do código é executada e mostra-se a mensagem (\"Parabéns! Acertaste!\")\n",
    "  \n",
    "  c) Caso o utilizador responda \"não\", seguidamente terá de indicar se o valor final é maior ou menor:\n",
    "  \n",
    "   c1) se o valor for maior, podemos descartar todos os números que estão para baixo deste, incluindo ele próprio. Logo, a variável **início** recebe o valor l[m+1] e é calculado o valor médio deste novo intervalo.\n",
    "      \n",
    "   c2) se o valor for menor, podemos descartá-lo e também todos os números que são maiores do que este, e, assim, o final do intervalo será o valor correspondente a l[m-1]. Mais uma vez, é calculado o valor médio do intervalo.\n",
    "    \n",
    "   Tratando-se de um ciclo, enquanto que o jogador digitar \"não\", vão sendo calculados os valores médios dos novos intervalos, e, consoante, estes forem maiores ou menores que o número final, vão sendo definidos novos inícios e novos fins, correspondentes a metade do intervalo anterior, até que o computador atinja o número que o utilizador estava a pensar.\n",
    "   \n",
    "   NOTA: É de notar que no cálculo da variável **m**, foi utilizada uma das funcionalidades do módulo *math*, que corresponde a *floor*. Esta funcionalidade tem como finalidade arredondar, para baixo, um número de casas decimais. Por exemplo: 72,5 arredonda para 72. Isto destina-se aos casos em que a média de um dado intervalo não resulta num valor inteiro.\n",
    "  \n",
    "\n",
    "\n"
   ]
  },
  {
   "cell_type": "code",
   "execution_count": null,
   "metadata": {},
   "outputs": [],
   "source": []
  }
 ],
 "metadata": {
  "kernelspec": {
   "display_name": "Python 3",
   "language": "python",
   "name": "python3"
  },
  "language_info": {
   "codemirror_mode": {
    "name": "ipython",
    "version": 3
   },
   "file_extension": ".py",
   "mimetype": "text/x-python",
   "name": "python",
   "nbconvert_exporter": "python",
   "pygments_lexer": "ipython3",
   "version": "3.8.3"
  }
 },
 "nbformat": 4,
 "nbformat_minor": 4
}

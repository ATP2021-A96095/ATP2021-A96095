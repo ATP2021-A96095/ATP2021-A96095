{
 "cells": [
  {
   "cell_type": "markdown",
   "metadata": {},
   "source": [
    "# TPC4- Manipulador de Frações\n",
    "\n",
    "#### Autor: Ana Margarida Ferreira de Sousa, A96095\n",
    "\n",
    "##### Data de Início: 2021-11-08\n",
    "##### Data de Fim: 2021-11-09\n",
    "##### SuperVisor: José Carlos Leite Ramalho, https://www.di.uminho.pt/~jcr/"
   ]
  },
  {
   "cell_type": "markdown",
   "metadata": {},
   "source": [
    "***Introdução:*** \n",
    "O TPC4 tem como objetivo a elaboração de um algoritmo que permite efetuar várias operações com frações, tais como a soma, subtração, multiplicação e divisão. Aqui, o utilizador terá de introduzir a quantidade de frações que pretende manipular, e, posteriormente, selecionar uma opção do menu, correspondente à operação pretendida.\n",
    "\n",
    "***Construção do Código***:\n",
    "\n",
    "Para a construção do código foram criadas uma série de funções. Temos funções como:\n",
    "\n",
    "-> **recebeFrac()** que pede o valor do numerador e denominador de cada fração e a retorna como um tuplo;\n",
    "\n",
    "-> **nFrac()** que questiona o número de frações pretendidas, guardando estas, (em forma de tuplo pois esta função \"chama\" a *recebeFrac()*) numa lista.\n",
    "\n",
    "-> **verFrac(f)** que retorna a fração na sua forma \"correta\" de representação. Ou seja, em vez de obtermos o resultado final da operação como um tuplo, obtemos como \"n/d\" sendo n o numerador e d o denominador.\n",
    "\n",
    "-> **mdc(a,b)** que calcula o máximo divisor comum entre o numerador e o denominador para que, na função *simplificaFrac()* a fração resultante esteja na sua forma reduzida.\n",
    "\n",
    "-> **somaFrac() e somaVarias()** que permite a soma das frações introduzidas, sendo que estas são guardadas numa lista l, fazendo com que, através de um ciclo while, possamos obter a soma total de todos os elementos.\n",
    "\n",
    "-> **subFrac() e subVarias()**\n",
    "\n",
    "-> **multiFrac() e multiVarias()**\n",
    "\n",
    "-> **divideFrac() e divideVarias()**\n",
    "\n",
    "Estas 3 últimas baseiam-se no mesmo raciocínio que as funções somaFrac() e somaVarias(), em que através de um ciclo while, se obtém o resultado da operação pretendida entre todas as frações presentes na lista.\n",
    "\n",
    "Para além destas funções, temos a implementação do menu inicial em que é questionado ao usuário que operações este tenciona efetuar, em que tem de inserir o número correspondente à operação: 1- Soma, 2- Subtração, 3- Divisão e 4- Multiplicação. Se introduzir 0, o programa fecha.\n",
    "\n"
   ]
  },
  {
   "cell_type": "code",
   "execution_count": null,
   "metadata": {},
   "outputs": [],
   "source": []
  }
 ],
 "metadata": {
  "kernelspec": {
   "display_name": "Python 3",
   "language": "python",
   "name": "python3"
  },
  "language_info": {
   "codemirror_mode": {
    "name": "ipython",
    "version": 3
   },
   "file_extension": ".py",
   "mimetype": "text/x-python",
   "name": "python",
   "nbconvert_exporter": "python",
   "pygments_lexer": "ipython3",
   "version": "3.8.3"
  }
 },
 "nbformat": 4,
 "nbformat_minor": 4
}

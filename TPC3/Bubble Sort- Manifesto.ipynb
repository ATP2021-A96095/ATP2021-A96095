{
 "cells": [
  {
   "cell_type": "markdown",
   "metadata": {},
   "source": [
    "# TPC3- Bubble Sort\n",
    "\n",
    "#### Autor: Ana Margarida Ferreira de Sousa, A96095\n",
    "\n",
    "##### Data de Ínicio: 2021-10-23\n",
    "##### Data de Fim: 2021-10-24\n",
    "##### Supervisor: José Carlos Leite Ramalho, https://www.di.uminho.pt/~jcr/"
   ]
  },
  {
   "cell_type": "markdown",
   "metadata": {},
   "source": [
    "***Introdução***:\n",
    "O Bubble Sort corresponde a um algoritmo que tem como finalidade colocar um conjunto de itens, numericamente ou lexicalmente, por ordem crescente. Assim, este recebe como entrada uma lista e retorna a mesma lista mas com todos os seus elementos ordenados.\n",
    "Para que todos os itens sejam ordenados corretamente, é necessário iterar a lista as vezes que forem necessárias, pelo que, por cada iteração, deve-se estabelecer uma comparação entre um par de valores. \n",
    "\n",
    "Por exemplo, na iteração inicial, o primeiro valor da lista é comparado com o segundo, e caso este último seja menor que o primeiro, então há uma troca de lugares.\n",
    "\n"
   ]
  },
  {
   "cell_type": "markdown",
   "metadata": {},
   "source": [
    "***Construção do Código***:\n",
    "\n",
    "**1º Passo**:\n",
    "Iniciei a construção do código com a definição de uma função designada *bubbleSort*, que recebe como parâmetro uma lista l. Posteriormente, procedi à criação de duas variáveis:\n",
    "\n",
    "-variável *ordenado*, que vai servir como uma espécie de \"semáforo\" ao longo da execução do código. Exemplificando, enquanto que \"a luz está verde\", esta irá \"comunicar\" ao algoritmo que a lista precisa de ser percorrida novamente. Consequentemente, se após uma posterior análise da lista não se verificarem quaisquer trocas de lugares, então a variável \"muda a sua luz\" para vermelho e a execução do algortimo encerra. Estas \"mudanças de luzes\" vão sendo controladas pelos valores booleanos ***True*** e ***False***. Inicialmente, *ordenado* recebe, então, o valor booleano ***True*** para que a lista seja percorrida pelo menos uma vez.\n",
    "\n",
    "-variável *itens*, que representa os elementos da lista a serem analisados, neste caso, *len(l)-1* pois a análise e trocas será feita com base nos seus índices.\n",
    "\n",
    "**2º Passo**:\n",
    "O segundo passo baseou-se na implementação de um ciclo *while* que vai sendo chamado enquanto houver mudança de valores numa iteração, e, por isso, a linha de código correspondente é: *while ordenado*. Dentro deste ciclo, *ordenado* recebe o valor ***False***, para que, quando não se verificar a condição que determina a troca de lugares, o processo termine e seja retornada a lista ordenada desejada.\n",
    "\n",
    "Para além disso, foi ainda utilizado um novo ciclo, *for i in range (itens)*, que diz respeito à análise dos elementos da lista, com base nos seus indíces (como já referido anteriormente) onde terá lugar a troca de lugares, se a seguinte condição se verificar: ***if l[i]>l[i+1]***, ou seja, se o primeiro elemento for maior do que o segundo.\n",
    "\n",
    "Assim sendo, caso a condição se verifique, foi fundamental a criação de uma variável, *temp*, de armazenamento temporário uma vez que, ao ser efetuada a troca, um dos valores seria sobrescrito. *temp* recebe inicialmente o valor de l[i]; é feita a troca através de l[i]=l[i+1], e, por fim, l[i+1] recebe o valor de *temp*. \n",
    "\n",
    "Por exemplo, se aplicássemos a função *bubbleSort* à lista [17,2,6,4,14,15] sem a variável temporária esta retornaria como [2,2,4,4,14,15].\n",
    "\n",
    "É de esperar, então, que neste caso, *ordenado* recebe o valor ***True*** para comunicar ao algoritmo de que, como ocorreu uma troca de lugares, o processo deve ser realizado novamente.\n",
    "\n",
    "A ordenação dá-se como concluída quando, após uma análise adicional da lista, não se verificarem quaisquer mudanças. Por conseguinte, *ordenado* recebe o valor ***False*** e a lista final é apresentada."
   ]
  },
  {
   "cell_type": "code",
   "execution_count": null,
   "metadata": {},
   "outputs": [],
   "source": []
  }
 ],
 "metadata": {
  "kernelspec": {
   "display_name": "Python 3",
   "language": "python",
   "name": "python3"
  },
  "language_info": {
   "codemirror_mode": {
    "name": "ipython",
    "version": 3
   },
   "file_extension": ".py",
   "mimetype": "text/x-python",
   "name": "python",
   "nbconvert_exporter": "python",
   "pygments_lexer": "ipython3",
   "version": "3.8.3"
  }
 },
 "nbformat": 4,
 "nbformat_minor": 4
}

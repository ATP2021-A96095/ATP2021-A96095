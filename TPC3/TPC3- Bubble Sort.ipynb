{
 "cells": [
  {
   "cell_type": "code",
   "execution_count": null,
   "metadata": {},
   "outputs": [],
   "source": [
    "def bubbleSort(l):\n",
    "    itens=len(l)-1\n",
    "    ordenado=True\n",
    "    while ordenado:\n",
    "        ordenado=False\n",
    "        for i in range (itens):\n",
    "            if l[i]>l[i+1]:\n",
    "                ordenado=True\n",
    "                temp=l[i]\n",
    "                l[i]=l[i+1]\n",
    "                l[i+1]=temp\n",
    "                    \n",
    "    return l"
   ]
  }
 ],
 "metadata": {
  "kernelspec": {
   "display_name": "Python 3",
   "language": "python",
   "name": "python3"
  },
  "language_info": {
   "codemirror_mode": {
    "name": "ipython",
    "version": 3
   },
   "file_extension": ".py",
   "mimetype": "text/x-python",
   "name": "python",
   "nbconvert_exporter": "python",
   "pygments_lexer": "ipython3",
   "version": "3.8.3"
  }
 },
 "nbformat": 4,
 "nbformat_minor": 4
}

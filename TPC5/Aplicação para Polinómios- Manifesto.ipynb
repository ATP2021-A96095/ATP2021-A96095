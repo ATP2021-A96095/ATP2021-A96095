{
 "cells": [
  {
   "cell_type": "markdown",
   "metadata": {},
   "source": [
    "# TPC5- Aplicação para Polinómios\n",
    "\n",
    "#### Autor: Ana Margarida Ferreira de Sousa, A96095\n",
    "\n",
    "##### Data de Início: 2021-11-17\n",
    "##### Data de Fim: 2021-11-17\n",
    "##### SuperVisor: José Carlos Leite Ramalho, https://www.di.uminho.pt/~jcr/"
   ]
  },
  {
   "cell_type": "markdown",
   "metadata": {},
   "source": [
    "***Introdução:*** \n",
    "O TPC5 tem como objetivo a elaboração de um algoritmo que permite efetuar várias operações com polinómios, tais como calcular o seu valor num ponto, ver o seu grau, simplificá-lo e ver o polinómio atual. Aqui, o utilizador terá de introduzir a quantidade de termos do seu polinómio, e respetivos coeficientes e expoentes, e, posteriormente, selecionar uma opção do menu, correspondente à operação pretendida.\n",
    "\n",
    "***Construção do Código***:\n",
    "\n",
    "Para a construção do código foram criadas uma série de funções. Temos uma função *criarTermo()* que recebe os parâmetros do polinómio, ou seja, o coeficiente e expoente do respetivo termo constituinte, retornando este último como um tuplo. Consequentemente, para conseguirmos visualizar o polinómio na sua forma correta de representação temos *verTermo()* e *verPolinomio()*.\n",
    "\n",
    "Para além destas, temos outras várias usadas, por exemplo, para o cálculo do grau do polinómio *verGrau()*; *derivada()* que, como o nome indica, nos dá a derivada da nossa expressão, e, ainda, *ordenar_p* e *simplificarPol*. Estas duas últimas foram implementadas para os casos em que temos mais do que um termo de igual expoente. Assim, foi criada uma lista em *ordenar_p* que agrupa os termos de igual expoente para que em *simplificarPol* se efetue a soma destes mesmos, e, o resultado seja, então, o polinómio simplificado.\n",
    "\n",
    "Além disso, temos a implementação do menu inicial em que é questionado ao usuário que operações este tenciona efetuar, em que tem de inserir o número correspondente à operação."
   ]
  },
  {
   "cell_type": "code",
   "execution_count": null,
   "metadata": {},
   "outputs": [],
   "source": []
  }
 ],
 "metadata": {
  "kernelspec": {
   "display_name": "Python 3",
   "language": "python",
   "name": "python3"
  },
  "language_info": {
   "codemirror_mode": {
    "name": "ipython",
    "version": 3
   },
   "file_extension": ".py",
   "mimetype": "text/x-python",
   "name": "python",
   "nbconvert_exporter": "python",
   "pygments_lexer": "ipython3",
   "version": "3.8.3"
  }
 },
 "nbformat": 4,
 "nbformat_minor": 4
}

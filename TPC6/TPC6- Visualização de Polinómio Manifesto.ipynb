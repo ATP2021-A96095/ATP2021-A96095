{
 "cells": [
  {
   "cell_type": "markdown",
   "metadata": {},
   "source": [
    "# TPC6- Aplicação para Polinómios- função Simplificar e Visualizar\n",
    "\n",
    "#### Autor: Ana Margarida Ferreira de Sousa, A96095\n",
    "\n",
    "##### Data de Início: 2021-11-19\n",
    "##### Data de Fim: 2021-11-19\n",
    "##### SuperVisor: José Carlos Leite Ramalho, https://www.di.uminho.pt/~jcr/"
   ]
  },
  {
   "cell_type": "markdown",
   "metadata": {},
   "source": [
    "***Introdução:*** \n",
    "O TPC6 desta semana teve como objetivo a utilização do mesmo programa desenvolvido no TPC5 para a implementação de uma nova função que permite simplificar um polinómio. Ora, esta função é útil quando o utilizador insere mais do que um termo de um mesmo expoente. Assim, a função *simplificar* vai tratar de fazer a soma entre estes termos e devolver a expressão simplificada. Para além disso, estabeleceu-se o objetivo de desenvolver uma função que permite visualizar o respetivo gráfico do polinómio.\n",
    "\n",
    "***Construção do Código***:\n",
    "\n",
    "->função ***simplificaPol(p)***\n",
    "\n",
    "A implementação desta funcionalidade começa por utilizar uma lista (*paux*) em que todos os termos de igual expoente se encontram ordenados sendo que esta ordenação é efetuada numa função anterior, *ordenar_l(p)*.\n",
    "Sendo assim, definiu-se uma variável, *res*, que toma o valor do primeiro elemento da lista, sendo este último eliminado para podermos estabelecer a comparação com os restantes elementos da lista. \n",
    "Posteriormente, compara-se, então, *res* e o primeiro elemento da lista, que agora tem um elemento a menos, estabelecendo-se duas condições:\n",
    "\n",
    "-se o expoente de ambos for o mesmo, efetua-se a soma entre os dois pelo que *res*, agora, toma o valor de (res[0][0] (coeficiente) + paux[0][0] (coeficiente do elemento da lista), res[0][1] (mantém-se o mesmo expoente)).\n",
    "Este novo tuplo é inserido numa lista criada no início da função, chamada, *simplificada*, que irá englobar os termos do polinómio simplificado.\n",
    "\n",
    "-se o expoente de ambos for diferente, a função irá simplesmente adicionar o valor de *res* a *simplificada*\n",
    "\n",
    "Durante a construção do código enfrentou-se uma situação em que se teve de desenvolver uma nova condição. Considere-se uma situação em que res=(8,0), simplificada = [(7,3),(7,2),(8,0)] e paux=[(7,0)].\n",
    "Mediante o código, é de prever que, como o expoente de *res* é igual ao do elemento de *paux*, se efetue a soma entre os mesmos e *res* tome o valor de (8+7,0)=(15,0). Assim sendo, este (15,0) é inserido em *simplificada* onde simplificada = [(7,3),(7,2),(8,0),(15,0)].\n",
    "É de notar que agora temos dois itens de mesmo expoente na lista onde não queríamos que isso acontecesse. Isto dá-se quando a lista *paux* consiste num único elemento. Portanto, desenvolveu-se uma condição em que, se o expoente de *paux* (7,0) for o mesmo do último elemento da lista simplificada (8,0), *res* toma o valor da soma destes dois (15,0). Após isto, apaga-se então (8,0), ou seja, o último item da lista simplificada e insere-se, sim, o valor simplificado, que é, neste caso (15,0). \n",
    "Agora, simplificada = [(7,3),(7,2),(15,0)]\n",
    "\n",
    "Estas condições que decorrem têm de ser efetuadas enquanto *paux* não se encontra vazia.\n",
    "\n",
    "->função ***VisualizarPolinomio(Pol)***\n",
    "\n",
    "Para a visualização do gráfico do polinómio, foi importado o método *plot*, onde se definiu que o eixo dos xx varia entre -100,100 e o eixo dos yy entre os valores do polinómio calculados para x=-100 e x=100.\n",
    "Aqui, o gráfico recebe o titúlo de \"Polinómio\" pelo que este é exibido através da função *plt.show()*."
   ]
  },
  {
   "cell_type": "code",
   "execution_count": null,
   "metadata": {},
   "outputs": [],
   "source": []
  }
 ],
 "metadata": {
  "kernelspec": {
   "display_name": "Python 3",
   "language": "python",
   "name": "python3"
  },
  "language_info": {
   "codemirror_mode": {
    "name": "ipython",
    "version": 3
   },
   "file_extension": ".py",
   "mimetype": "text/x-python",
   "name": "python",
   "nbconvert_exporter": "python",
   "pygments_lexer": "ipython3",
   "version": "3.8.3"
  }
 },
 "nbformat": 4,
 "nbformat_minor": 4
}

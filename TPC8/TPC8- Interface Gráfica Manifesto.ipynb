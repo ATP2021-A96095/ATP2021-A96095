{
 "cells": [
  {
   "cell_type": "markdown",
   "id": "7815c40b",
   "metadata": {},
   "source": [
    "# TPC8- Interface Gráfica \n",
    "\n",
    "#### Autor: Ana Margarida Ferreira de Sousa, A96095\n",
    "\n",
    "##### Data de Início: 2021-12-08\n",
    "##### Data de Fim: 2021-12-08\n",
    "##### SuperVisor: José Carlos Leite Ramalho, https://www.di.uminho.pt/~jcr/"
   ]
  },
  {
   "cell_type": "markdown",
   "id": "028f912c",
   "metadata": {},
   "source": [
    "Com base nas funções desenvolvidas, na aula prática 8, para a organização da base de dados correspondente, o TPC desta semana visa a criação de uma aplicação que ponha em prática estas mesmas funções.\n",
    "Assim sendo, a minha interface principal possui 4 botões:\n",
    "\n",
    "- \"**Sair**\", que permite fechar a janela;\n",
    "\n",
    "- \"**Listar**\", que, depois de selecionado, aparece uma nova janela com dois novos botões, onde o utilizador pode selecionar a sua intenção: ou Listar por Modalidades, ou Listar por Resultados de Exames;\n",
    "\n",
    "- \"**Distribuições**\", que, depois de selecionado, surge uma nova janela com 4 novos botões em que o utilizador seleciona aquela que pretende: Distribuir por Modalidades, Distribuir por Clubes, Distribuir por Resultados de Exame ou Distribuir por Ano de Nascimento;\n",
    "\n",
    "- \"**Gráficos**\", onde aparecerá uma nova janela, também com 4 novos botões, cujas opções são: Gráfico da Distribuição por Modalidades, Gráfico da Distribuição por Clubes, Gráfico da Distribuição por Ano, Gráfico da Distribuição por Resultados de Exames.\n",
    "\n",
    "(NOTA: Para este último, não consegui fazer com que aparecesse uma nova janela com o gráfico, o gráfico apenas surge no NoteBook (?))\n",
    "\n",
    "Conclui-se, então, que temos uma layout principal que contém estes botões. Posteriormente, quando o usuário procede à seleção, são criadas novas layouts com novos botões.\n",
    "\n",
    "Para os botões passarem a ter funcionalidade, todas as funções desenvolvidas na aula prática foram guardadas num único ficheiro \"codigofunc.py\", onde é importado como módulo. Neste caso, procedi a \"***import codigofunc as fg***\". \n",
    "\n",
    "Por exemplo, caso o utilizador selecionasse \"Listar Modalidades\", seria criada uma variável \"*guardaListaMod*\" que recebe o valor de \"*fg.modalidades(bd)*\", em que bd=lerDataset(\"emd.csv\") e onde *modalidades* corresponde à função desenvolvida para listagem de modalidades (retorna uma lista do tipo \"modalidade: número de utentes\").\n",
    "\n",
    "Após isto, é desenvolvida a \"*layoutResultadoMod*\", em que *layoutResultadoMod*= [[sg.Text(guardaListaMod), sg.Button(\"Cancelar\")]]. Neste caso, o elemento é do tipo *Text*, porém, para o caso da listagem por resultados de exame, por exemplo, o elemento é do tipo *Listbox* onde se consegue percorrer a grande quantidade de registos presente.\n",
    "\n",
    "Posteriormente,\n",
    "\n",
    "janelaListaMod=sg.Window(\"Lista de Modalidades\", layoutResultadoMod) (surge a janela com o resultado pretendido)\n",
    "\n",
    "event1, values1=janelaListaMod.read(close=True) (caso o utilizador clique no botão para sair, a janela fecha)\n",
    "\n",
    "O mesmo raciocínio foi utilizado para as restantes seleções. Para o caso dos gráficos, foi utilizada a função *plotDistrib* do \"codigofunc.py\" onde se procede a plt.show() da variável que recebe o resultado proveniente desta mesma função."
   ]
  }
 ],
 "metadata": {
  "kernelspec": {
   "display_name": "Python 3 (ipykernel)",
   "language": "python",
   "name": "python3"
  },
  "language_info": {
   "codemirror_mode": {
    "name": "ipython",
    "version": 3
   },
   "file_extension": ".py",
   "mimetype": "text/x-python",
   "name": "python",
   "nbconvert_exporter": "python",
   "pygments_lexer": "ipython3",
   "version": "3.9.7"
  }
 },
 "nbformat": 4,
 "nbformat_minor": 5
}

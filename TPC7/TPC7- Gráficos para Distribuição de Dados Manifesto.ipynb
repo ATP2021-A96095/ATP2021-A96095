{
 "cells": [
  {
   "cell_type": "markdown",
   "metadata": {},
   "source": [
    "# TPC7- Gráficos para Distribuição de Dados\n",
    "\n",
    "#### Autor: Ana Margarida Ferreira de Sousa, A96095\n",
    "\n",
    "##### Data de Início: 2021-11-30\n",
    "##### Data de Fim: 2021-11-30\n",
    "##### SuperVisor: José Carlos Leite Ramalho, https://www.di.uminho.pt/~jcr/"
   ]
  },
  {
   "cell_type": "markdown",
   "metadata": {},
   "source": [
    "Para o TPC7 desta semana, foi necessário utilizar a base de dados desenvolvida na aula prática 7 (relativa a dados acerca de um conjunto de alunos) para, posteriormente, desenvolvermos funções para:\n",
    "\n",
    "- distribuirmos os alunos por curso. A função correspondente, *distribPorCurso*, irá retornar um dicionário cujas chaves (equivalentes ao nome do curso) tomam como valores o número total de alunos nesse curso. (NOTA: esta função foi desenvolvida na aula)\n",
    "\n",
    "  ex: {'\"LEI\"': 23, '\"ENGFIS\"': 32, '\"LCC\"': 20, '\"ENGBIOM\"': 25}\n",
    "\n",
    "\n",
    "- visualizarmos o gráfico correspondente à distribuição dos alunos por curso. Aqui, foi usado o método *plot* para ser gerado um gráfico de barras em que no eixo do x temos os nomes dos cursos e no eixo do y o número de alunos a que corresponde cada curso. \n",
    "\n",
    "  Para isso, criamos listas como *left*(espaço entre barras), *height*(altura das barras) e *tick_label*(designação de cada barra), inicialmente vazias. Posteriormente, percorremos o dicionário resultante da função *distribPorCurso* através de um ciclo *for* onde a lista *tick_label* recebe as chaves do dicionário (nomes dos cursos) e a lista *height* o valor correspondente da chave, que é o número de alunos. Foi gerada uma variável i, que inicialmente toma o valor de 1, para que a primeira barra esteja afastada do eixo dos y sendo incrementada de 1 unidade ao longo do ciclo para que as barras estejam espaçadas.\n",
    "  \n",
    "  \n",
    "- distribuirmos os alunos por média. A função correspondente, *distribPorMedia*, irá retornar um dicionário cujas chaves (equivalentes ao valor da média dos trabalhos de casa de cada aluno) tomam como valores o número total de alunos com essa média, onde esta última é um valor inteiro.\n",
    "  \n",
    "  ex: {11: 9, 16: 11, 12: 15, 15: 15, 14: 21, 13: 20, 17: 4, 18: 2, 9: 2, 10: 1}\n",
    "  \n",
    "  Para que no gráfico resultante, o valor das médias estejam ordenadas, no eixo do x, foi desenvolvida uma função à parte *ordenarDicMedia()*. Nesta é criado um dicionário designado *ordenado*, que será o resultante ordenado, como o nome indica. Através de um ciclo *for* que percorre os elementos da lista resultante da função *sorted(dict.items(d))* (lista de tuplos com as chaves ordenadas por ordem crescente e respetivos valores), *ordenado[elem[0]] toma o valor de elem[1]*. Ou seja, a lista converte-se num dicionário.\n",
    "  \n",
    "  ex: {9: 2, 10: 1, 11: 9, 12: 15, 13: 20, 14: 21, 15: 15, 16: 11, 17: 4, 18: 2}\n",
    "  \n",
    "  O que retornaria a função *sorted(dic.items(d))*: [(9, 2), (10, 1), (11, 9), (12, 15), (13, 20), (14, 21), (15, 15), (16, 11), (17, 4), (18, 2)]\n",
    "  \n",
    "  \n",
    "- visualizarmos o gráfico correspondente à distribuição dos alunos por média. Aqui, foi usado o método *plot* para ser gerado um gráfico de barras em que no eixo do x temos os valores das médias e no eixo do y o número de alunos a que corresponde cada média. \n",
    "\n",
    "  Assim, aqui, percorre-se o dicionário ordenado em *ordenarDicMedia()* onde, em *tick_label*, cada barra toma a chave respetiva (média) e *height* o valor da chave (números de alunos). O mesmo processo na visualização da distribuição por curso para a lista *left* foi implementada nesta função."
   ]
  },
  {
   "cell_type": "code",
   "execution_count": null,
   "metadata": {},
   "outputs": [],
   "source": []
  }
 ],
 "metadata": {
  "kernelspec": {
   "display_name": "Python 3",
   "language": "python",
   "name": "python3"
  },
  "language_info": {
   "codemirror_mode": {
    "name": "ipython",
    "version": 3
   },
   "file_extension": ".py",
   "mimetype": "text/x-python",
   "name": "python",
   "nbconvert_exporter": "python",
   "pygments_lexer": "ipython3",
   "version": "3.8.3"
  }
 },
 "nbformat": 4,
 "nbformat_minor": 4
}
